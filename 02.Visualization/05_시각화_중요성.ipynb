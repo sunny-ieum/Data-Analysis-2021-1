{
 "metadata": {
  "language_info": {
   "codemirror_mode": {
    "name": "ipython",
    "version": 3
   },
   "file_extension": ".py",
   "mimetype": "text/x-python",
   "name": "python",
   "nbconvert_exporter": "python",
   "pygments_lexer": "ipython3",
   "version": "3.9.2-final"
  },
  "orig_nbformat": 2,
  "kernelspec": {
   "name": "python3",
   "display_name": "Python 3.9.2 64-bit",
   "metadata": {
    "interpreter": {
     "hash": "b674c0892b3c64375a5c933dff98129cc6aeb23957d1f1ec6f775041500db805"
    }
   }
  }
 },
 "nbformat": 4,
 "nbformat_minor": 2,
 "cells": [
  {
   "source": [
    "# 시각화 중요성 - Anscombe's Quartet"
   ],
   "cell_type": "markdown",
   "metadata": {}
  },
  {
   "cell_type": "code",
   "execution_count": null,
   "metadata": {},
   "outputs": [],
   "source": [
    "import matplotlib as mpl \n",
    "import matplotlib.pyplot as plt \n",
    "%matplotlib inline\n",
    "\n",
    "mpl.rcParams['axes.unicode_minus'] = False   # minus 표시\n",
    "mpl.rcParams[\"font.family\"] = 'Malgun Gothic'"
   ]
  },
  {
   "cell_type": "code",
   "execution_count": null,
   "metadata": {},
   "outputs": [],
   "source": [
    "import seaborn as sns\n",
    "\n",
    "ans = sns.load_dataset('anscombe')\n",
    "ans.shape"
   ]
  },
  {
   "cell_type": "code",
   "execution_count": null,
   "metadata": {},
   "outputs": [],
   "source": [
    "ans.head(3)"
   ]
  },
  {
   "cell_type": "code",
   "execution_count": null,
   "metadata": {},
   "outputs": [],
   "source": [
    "ans.tail(3)"
   ]
  },
  {
   "cell_type": "code",
   "execution_count": null,
   "metadata": {},
   "outputs": [],
   "source": [
    "type(ans)"
   ]
  },
  {
   "cell_type": "code",
   "execution_count": null,
   "metadata": {},
   "outputs": [],
   "source": [
    "ans.groupby('dataset').describe()\n"
   ]
  },
  {
   "cell_type": "code",
   "execution_count": null,
   "metadata": {},
   "outputs": [],
   "source": [
    "\n",
    "ds1 = ans[ans.dataset == 'I']\n",
    "ds2 = ans[ans.dataset == 'II']\n",
    "ds3 = ans[ans.dataset == 'III']\n",
    "ds4 = ans[ans.dataset == 'IV']"
   ]
  },
  {
   "cell_type": "code",
   "execution_count": null,
   "metadata": {},
   "outputs": [],
   "source": [
    "fig = plt.figure(figsize=(12,10))\n",
    "ax1 = plt.subplot(2, 2, 1)\n",
    "ax2 = plt.subplot(2, 2, 2)\n",
    "ax3 = plt.subplot(2, 2, 3)\n",
    "ax4 = plt.subplot(2, 2, 4)\n",
    "\n",
    "ax1.plot(ds1['x'], ds1['y'], 'o')\n",
    "ax2.plot(ds2['x'], ds2['y'], 'o')\n",
    "ax3.plot(ds3['x'], ds3['y'], 'o')\n",
    "ax4.plot(ds4['x'], ds4['y'], 'o')\n",
    "\n",
    "ax1.set_title('Dataset I')\n",
    "ax2.set_title('Dataset II')\n",
    "ax3.set_title('Dataset III')\n",
    "ax4.set_title('Dataset IV')\n",
    "\n",
    "fig.suptitle(\"Anscombe's Quartet\", fontsize=16)\n",
    "fig.tight_layout()\n",
    "fig.subplots_adjust(top=0.9)\n",
    "plt.show()"
   ]
  },
  {
   "source": [
    "### Code Refactoring"
   ],
   "cell_type": "markdown",
   "metadata": {}
  },
  {
   "cell_type": "code",
   "execution_count": null,
   "metadata": {},
   "outputs": [],
   "source": [
    "\n",
    "fig, axes = plt.subplots(2, 2, figsize=(12,10), sharex=True, sharey=True)\n",
    "\n",
    "for i, num in enumerate(['I', 'II', 'III', 'IV']):\n",
    "    ds = ans[ans.dataset == num]\n",
    "    ax = axes[i//2][i%2]\n",
    "    ax.plot(ds.x, ds.y, 'o', ms=10)\n",
    "    ax.plot([3,20], [4.5,13], 'r-', lw=2)       # y = 0.5x + 3\n",
    "    ax.set_title(f'Dataset {num}')\n",
    "\n",
    "fig.suptitle(\"Anscombe's Quartet\", fontsize=16)\n",
    "fig.tight_layout()\n",
    "fig.subplots_adjust(top=0.9)\n",
    "plt.show()"
   ]
  },
  {
   "cell_type": "code",
   "execution_count": null,
   "metadata": {},
   "outputs": [],
   "source": []
  }
 ]
}