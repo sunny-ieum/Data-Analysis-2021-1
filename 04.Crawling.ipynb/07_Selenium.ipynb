{
 "metadata": {
  "language_info": {
   "codemirror_mode": {
    "name": "ipython",
    "version": 3
   },
   "file_extension": ".py",
   "mimetype": "text/x-python",
   "name": "python",
   "nbconvert_exporter": "python",
   "pygments_lexer": "ipython3",
   "version": "3.9.2-final"
  },
  "orig_nbformat": 2,
  "kernelspec": {
   "name": "python3",
   "display_name": "Python 3.9.2 64-bit",
   "metadata": {
    "interpreter": {
     "hash": "b674c0892b3c64375a5c933dff98129cc6aeb23957d1f1ec6f775041500db805"
    }
   }
  }
 },
 "nbformat": 4,
 "nbformat_minor": 2,
 "cells": [
  {
   "source": [
    "# Selenium을 이용한 동적 크롤링"
   ],
   "cell_type": "markdown",
   "metadata": {}
  },
  {
   "cell_type": "code",
   "execution_count": 5,
   "metadata": {},
   "outputs": [],
   "source": [
    "import requests, time\n",
    "from selenium import webdriver\n",
    "from selenium.webdriver.common.keys import Keys        # 기본적으로 불러와야되는.import"
   ]
  },
  {
   "cell_type": "code",
   "execution_count": 8,
   "metadata": {},
   "outputs": [],
   "source": [
    "from bs4 import BeautifulSoup\n",
    "\n",
    "url = 'https://sports.news.naver.com/kbaseball/news/index.nhn?isphoto=N'\n",
    "req = requests.get(url)\n",
    "soup = BeautifulSoup(req.text, 'html.parser')\n",
    "## soup   <-- 너무 길어서 생략(결과)\n",
    "# BeautifulSoup으로 크롤링을 하려고 하였지만 본문은 크롤링이 안됨x"
   ]
  },
  {
   "source": [
    "## 야구 > 최신뉴스"
   ],
   "cell_type": "markdown",
   "metadata": {}
  },
  {
   "cell_type": "code",
   "execution_count": 56,
   "metadata": {},
   "outputs": [],
   "source": [
    "driver = webdriver.Chrome('chromedriver')\n",
    "url = 'https://sports.news.naver.com/kbaseball/news/index.nhn?isphoto=N'\n",
    "driver.get(url)"
   ]
  },
  {
   "cell_type": "code",
   "execution_count": 57,
   "metadata": {},
   "outputs": [],
   "source": [
    "# 최신 뉴스 리스트의 맨 마지막 페이지 (3.24일꺼로함)\n",
    "while True:\n",
    "    page = driver.find_element_by_id('_pageList')\n",
    "    try:\n",
    "        next = page.find_element_by_class_name('next')\n",
    "        if next:\n",
    "            next.click()\n",
    "    except:         # exception은 마지막페이지에 발생\n",
    "        break;      # break를 걸어서 무한루프를 퇴출, "
   ]
  },
  {
   "cell_type": "code",
   "execution_count": 58,
   "metadata": {},
   "outputs": [
    {
     "output_type": "execute_result",
     "data": {
      "text/plain": [
       "1"
      ]
     },
     "metadata": {},
     "execution_count": 58
    }
   ],
   "source": [
    "page = driver.find_element_by_id('_pageList')\n",
    "try:\n",
    "    atags = page.find_elements_by_tag_name('a')\n",
    "    numPage = int(atags[-1].text)\n",
    "except:\n",
    "    numPage = 1\n",
    "numPage"
   ]
  },
  {
   "cell_type": "code",
   "execution_count": 59,
   "metadata": {},
   "outputs": [
    {
     "output_type": "execute_result",
     "data": {
      "text/plain": [
       "3"
      ]
     },
     "metadata": {},
     "execution_count": 59
    }
   ],
   "source": [
    "news = driver.find_element_by_id('_newsList')\n",
    "lis = news.find_elements_by_tag_name('li')\n",
    "len(lis)\n",
    "## 3.23실습은 페이지 20이었으나, 3.24일로 복습함"
   ]
  },
  {
   "cell_type": "code",
   "execution_count": 60,
   "metadata": {},
   "outputs": [
    {
     "output_type": "stream",
     "name": "stdout",
     "text": [
      "'유쾌한' 힐리 \"취재진 덕분에 홈런 쳤다, 고마워\"... 왜? [★잠실]\n[IS 포커스] 수비 채우고, 공격 때리고…기대 이상 '이용규 효과'\n이긴 기억 가물가물…올해도 두산은 강팀일까\n"
     ]
    }
   ],
   "source": [
    "for li in lis:\n",
    "    text = li.find_element_by_class_name('title')\n",
    "        title = text.find_element_by_tag_name('span').text\n",
    "    print(title)"
   ]
  },
  {
   "source": [
    "### 종목 가져오기"
   ],
   "cell_type": "markdown",
   "metadata": {}
  },
  {
   "cell_type": "code",
   "execution_count": 61,
   "metadata": {},
   "outputs": [
    {
     "output_type": "stream",
     "name": "stdout",
     "text": [
      "스포츠홈\n",
      "야구\n",
      "해외야구\n",
      "축구\n",
      "해외축구\n",
      "농구\n",
      "배구\n",
      "골프\n",
      "일반\n",
      "e스포츠&게임\n",
      "오늘의 경기\n",
      "연재\n",
      "랭킹\n"
     ]
    }
   ],
   "source": [
    "menus = driver.find_elements_by_class_name('main_menu_item')\n",
    "for menu in menus:\n",
    "    event = menu.find_element_by_tag_name('a').text\n",
    "    print(event)"
   ]
  },
  {
   "cell_type": "code",
   "execution_count": 62,
   "metadata": {},
   "outputs": [
    {
     "output_type": "execute_result",
     "data": {
      "text/plain": [
       "['https://sports.news.naver.com/kbaseball/index.nhn',\n",
       " 'https://sports.news.naver.com/wbaseball/index.nhn',\n",
       " 'https://sports.news.naver.com/kfootball/index.nhn',\n",
       " 'https://sports.news.naver.com/wfootball/index.nhn',\n",
       " 'https://sports.news.naver.com/basketball/index.nhn',\n",
       " 'https://sports.news.naver.com/volleyball/index.nhn',\n",
       " 'https://sports.news.naver.com/golf/index.nhn',\n",
       " 'https://sports.news.naver.com/general/index.nhn',\n",
       " 'https://sports.news.naver.com/esports/index.nhn']"
      ]
     },
     "metadata": {},
     "execution_count": 62
    }
   ],
   "source": [
    "menus = driver.find_elements_by_class_name('main_menu_item')\n",
    "events = []\n",
    "for menu in menus[1:-3]:\n",
    "    event = menu.find_element_by_tag_name('a').get_attribute('href')\n",
    "    events.append(event)\n",
    "events"
   ]
  },
  {
   "cell_type": "code",
   "execution_count": 63,
   "metadata": {},
   "outputs": [
    {
     "output_type": "execute_result",
     "data": {
      "text/plain": [
       "['kbaseball',\n",
       " 'wbaseball',\n",
       " 'kfootball',\n",
       " 'wfootball',\n",
       " 'basketball',\n",
       " 'volleyball',\n",
       " 'golf',\n",
       " 'general',\n",
       " 'esports']"
      ]
     },
     "metadata": {},
     "execution_count": 63
    }
   ],
   "source": [
    "menus = driver.find_elements_by_class_name('main_menu_item')\n",
    "events = []\n",
    "for menu in menus[1:-3]:\n",
    "    event = menu.find_element_by_tag_name('a').get_attribute('href')\n",
    "    events.append(event.split('/')[3])\n",
    "events"
   ]
  },
  {
   "cell_type": "code",
   "execution_count": 67,
   "metadata": {},
   "outputs": [
    {
     "output_type": "stream",
     "name": "stdout",
     "text": [
      "kbaseball: 1\n",
      "wbaseball: 1\n",
      "kfootball: 1\n",
      "wfootball: 1\n",
      "basketball: 1\n",
      "volleyball: 1\n",
      "golf: 1\n",
      "general: 1\n",
      "esports: 1\n"
     ]
    }
   ],
   "source": [
    "# 페이지 수\n",
    "\n",
    "base_url = 'https://sports.news.naver.com/'\n",
    "sub_url = '/news/index.nhn?isphoto=N'\n",
    "for event in events:\n",
    "    print(event, end=': ')\n",
    "    url = f'{base_url}{event}{sub_url}'\n",
    "    driver.get(url)\n",
    "    time.sleep(1)\n",
    "\n",
    "    while True:\n",
    "        page = driver.find_element_by_id('_pageList')\n",
    "        try:\n",
    "            next = page.find_element_by_class_name('next')\n",
    "            if next:\n",
    "                next.click()\n",
    "        except:\n",
    "            break;\n",
    "\n",
    "    page = driver.find_element_by_id('_pageList')\n",
    "    try:\n",
    "        atags = page.find_elements_by_tag_name('a')\n",
    "        numPage = int(atags[-1].text)\n",
    "    except:\n",
    "        numPage = 1\n",
    "\n",
    "    print(numPage)"
   ]
  },
  {
   "cell_type": "code",
   "execution_count": 69,
   "metadata": {},
   "outputs": [
    {
     "output_type": "stream",
     "name": "stdout",
     "text": [
      "kbaseball: 1 - 1, \n",
      "wbaseball: 1 - 1, \n",
      "kfootball: 1 - 1, \n",
      "wfootball: 1 - 1, \n",
      "basketball: 1 - 1, \n",
      "volleyball: 1 - 1, \n",
      "golf: 1 - 1, \n",
      "general: 1 - 1, \n",
      "esports: 1 - 1, \n"
     ]
    }
   ],
   "source": [
    "# 페이지를 돌아다니면서 데이터를 가지고 오는 경우\n",
    "# 타\n",
    "\n",
    "title_list = []     # 타이틀을 기록할 빈 리스트 만듦.\n",
    "for event in events:            \n",
    "    print(event, end=': ')\n",
    "    url = f'{base_url}{event}{sub_url}'\n",
    "    driver.get(url)\n",
    "    time.sleep(1)\n",
    "\n",
    "    while True:\n",
    "        page = driver.find_element_by_id('_pageList')\n",
    "        try:\n",
    "            next = page.find_element_by_class_name('next')\n",
    "            if next:\n",
    "                next.click()\n",
    "        except:\n",
    "            break;\n",
    "\n",
    "    page = driver.find_element_by_id('_pageList')\n",
    "    try:\n",
    "        atags = page.find_elements_by_tag_name('a')\n",
    "        numPage = int(atags[-1].text)\n",
    "    except:\n",
    "        numPage = 1\n",
    "\n",
    "    print(numPage, end=' - ')\n",
    "\n",
    "    for page in range(1, numPage+1):\n",
    "        print(page, end=', ')       # 페이지를 찍어주는.\n",
    "        url = f'{base_url}{event}{sub_url}&page={page}'\n",
    "        driver.get(url)\n",
    "        time.sleep(1)\n",
    "\n",
    "        news = driver.find_element_by_id('_newsList')\n",
    "        lis = news.find_elements_by_tag_name('li')\n",
    "        for li in lis:\n",
    "            text = li.find_element_by_class_name('title')\n",
    "            title = text.find_element_by_tag_name('span').text\n",
    "            title_list.append(title)        # 리스트가 만들어짐.\n",
    "    print()"
   ]
  },
  {
   "cell_type": "code",
   "execution_count": 71,
   "metadata": {},
   "outputs": [
    {
     "output_type": "execute_result",
     "data": {
      "text/plain": [
       "43"
      ]
     },
     "metadata": {},
     "execution_count": 71
    }
   ],
   "source": [
    "# 데이터 title_list가 몇개인지 세어보기\n",
    "len(title_list) "
   ]
  },
  {
   "cell_type": "code",
   "execution_count": 72,
   "metadata": {},
   "outputs": [],
   "source": [
    "## sports.txt 기록(저장,생성)\n",
    "\n",
    "title_str = '\\n'.join(title for title in title_list)\n",
    "with open('sports.txt', 'w', encoding='utf-8') as fp:\n",
    "    fp.write(title_str)"
   ]
  }
 ]
}