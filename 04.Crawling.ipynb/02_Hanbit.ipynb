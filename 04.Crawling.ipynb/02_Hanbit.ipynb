{
 "metadata": {
  "language_info": {
   "codemirror_mode": {
    "name": "ipython",
    "version": 3
   },
   "file_extension": ".py",
   "mimetype": "text/x-python",
   "name": "python",
   "nbconvert_exporter": "python",
   "pygments_lexer": "ipython3",
   "version": "3.9.2-final"
  },
  "orig_nbformat": 2,
  "kernelspec": {
   "name": "python3",
   "display_name": "Python 3.9.2 64-bit",
   "metadata": {
    "interpreter": {
     "hash": "b674c0892b3c64375a5c933dff98129cc6aeb23957d1f1ec6f775041500db805"
    }
   }
  }
 },
 "nbformat": 4,
 "nbformat_minor": 2,
 "cells": [
  {
   "source": [
    "## 한빛출판네트워크 웹사이트 - 새로나온 책 Crawling"
   ],
   "cell_type": "markdown",
   "metadata": {}
  },
  {
   "cell_type": "code",
   "execution_count": 1,
   "metadata": {},
   "outputs": [],
   "source": [
    "from bs4 import BeautifulSoup\n",
    "import urllib.request\n",
    "import urllib.parse"
   ]
  },
  {
   "cell_type": "code",
   "execution_count": 2,
   "metadata": {},
   "outputs": [],
   "source": [
    "base_url = 'https://www.hanbit.co.kr'      # base URL\n",
    "sub_url = '/academy/books/new_book_list.html'\n",
    "url = base_url + sub_url\n",
    "with urllib.request.urlopen(url) as response:\n",
    "    html = response.read()\n",
    "    soup = BeautifulSoup(html, 'html.parser')"
   ]
  },
  {
   "cell_type": "code",
   "execution_count": 3,
   "metadata": {},
   "outputs": [
    {
     "output_type": "execute_result",
     "data": {
      "text/plain": [
       "20"
      ]
     },
     "metadata": {},
     "execution_count": 3
    }
   ],
   "source": [
    "lis = soup.select('.sub_book_list')\n",
    "len(lis)"
   ]
  },
  {
   "cell_type": "code",
   "execution_count": 4,
   "metadata": {},
   "outputs": [
    {
     "output_type": "execute_result",
     "data": {
      "text/plain": [
       "<li class=\"sub_book_list\">\n",
       "<div class=\"view_box\">\n",
       "<span class=\"view_box_block\">\n",
       "<span class=\"img_hidden_a\">\n",
       "<span class=\"pop_quick_menu\">\n",
       "<a href=\"/academy/books/book_view.html?p_code=B6808882615\"><img alt=\"상세보기\" src=\"https://www.hanbit.co.kr/images/common/icon_view_detail.png\"/></a>\n",
       "<a href=\"javascript:;\" onclick=\"addCart('B6808882615','','1','');\">\n",
       "<img alt=\"장바구니 담기\" src=\"https://www.hanbit.co.kr/images/common/icon_add_cart.png\"/>\n",
       "</a>\n",
       "</span>\n",
       "<span class=\"price\">27,000<span>원</span></span>\n",
       "<span class=\"pop_quick_bg\" onclick=\"location='/academy/books/book_view.html?p_code=B6808882615'\"></span>\n",
       "</span>\n",
       "<!-- 예약도서인 경우 -->\n",
       "<!-- ebook이 도서인 경우 -->\n",
       "<img alt=\"\" class=\"thumb\" src=\"/data/books/B6808882615_m.jpg\"/>\n",
       "</span>\n",
       "<div class=\"info\">\n",
       "<p class=\"book_tit\"><a href=\"/academy/books/book_view.html?p_code=B6808882615\">4차 산업혁명 시대를 위한 e-비즈니스 개론(4판)</a></p>\n",
       "<p class=\"book_writer\">이동훈 </p>\n",
       "</div>\n",
       "</div>\n",
       "</li>"
      ]
     },
     "metadata": {},
     "execution_count": 4
    }
   ],
   "source": [
    "li = lis[0]\n",
    "li"
   ]
  },
  {
   "cell_type": "code",
   "execution_count": 5,
   "metadata": {},
   "outputs": [
    {
     "output_type": "execute_result",
     "data": {
      "text/plain": [
       "<p class=\"book_tit\"><a href=\"/academy/books/book_view.html?p_code=B6808882615\">4차 산업혁명 시대를 위한 e-비즈니스 개론(4판)</a></p>"
      ]
     },
     "metadata": {},
     "execution_count": 5
    }
   ],
   "source": [
    "title_p = li.select_one('.book_tit')\n",
    "title_p"
   ]
  },
  {
   "cell_type": "code",
   "execution_count": 6,
   "metadata": {},
   "outputs": [
    {
     "output_type": "execute_result",
     "data": {
      "text/plain": [
       "<p class=\"book_writer\">이동훈 </p>"
      ]
     },
     "metadata": {},
     "execution_count": 6
    }
   ],
   "source": [
    "writer_p = li.select_one('.book_writer')\n",
    "writer_p"
   ]
  },
  {
   "cell_type": "code",
   "execution_count": 7,
   "metadata": {},
   "outputs": [
    {
     "output_type": "execute_result",
     "data": {
      "text/plain": [
       "'4차 산업혁명 시대를 위한 e-비즈니스 개론(4판)'"
      ]
     },
     "metadata": {},
     "execution_count": 7
    }
   ],
   "source": [
    "title = title_p.get_text()\n",
    "title"
   ]
  },
  {
   "cell_type": "code",
   "execution_count": 8,
   "metadata": {},
   "outputs": [
    {
     "output_type": "execute_result",
     "data": {
      "text/plain": [
       "['Steven Chapra ', ' Raymond Canale ']"
      ]
     },
     "metadata": {},
     "execution_count": 8
    }
   ],
   "source": [
    "al = lis[2].select_one('.book_writer').get_text().split(',')\n",
    "al"
   ]
  },
  {
   "cell_type": "code",
   "execution_count": 9,
   "metadata": {},
   "outputs": [
    {
     "output_type": "execute_result",
     "data": {
      "text/plain": [
       "['Steven Chapra ', ' Raymond Canale ']"
      ]
     },
     "metadata": {},
     "execution_count": 9
    }
   ],
   "source": [
    "al = lis[2].select_one('.book_writer').get_text().split(',')\n",
    "al"
   ]
  },
  {
   "cell_type": "code",
   "execution_count": 10,
   "metadata": {},
   "outputs": [],
   "source": [
    "al = list(map(lambda s: s.rstrip(), al))\n",
    "writer = ','.join(al)"
   ]
  },
  {
   "cell_type": "code",
   "execution_count": 11,
   "metadata": {},
   "outputs": [
    {
     "output_type": "execute_result",
     "data": {
      "text/plain": [
       "'Steven Chapra, Raymond Canale'"
      ]
     },
     "metadata": {},
     "execution_count": 11
    }
   ],
   "source": [
    "writer"
   ]
  },
  {
   "cell_type": "code",
   "execution_count": 12,
   "metadata": {},
   "outputs": [
    {
     "output_type": "execute_result",
     "data": {
      "text/plain": [
       "'/academy/books/book_view.html?p_code=B6808882615'"
      ]
     },
     "metadata": {},
     "execution_count": 12
    }
   ],
   "source": [
    "book_url = title_p.find('a')['href']\n",
    "book_url"
   ]
  },
  {
   "cell_type": "code",
   "execution_count": 13,
   "metadata": {},
   "outputs": [],
   "source": [
    "url = base_url + book_url\n",
    "with urllib.request.urlopen(url) as response:\n",
    "    html = response.read()\n",
    "    book_soup = BeautifulSoup(html, 'html.parser')"
   ]
  },
  {
   "cell_type": "code",
   "execution_count": 14,
   "metadata": {},
   "outputs": [
    {
     "output_type": "execute_result",
     "data": {
      "text/plain": [
       "<div class=\"store_product_info_box\">\n",
       "<h3>4차 산업혁명 시대를 위한 e-비즈니스 개론(4판)</h3>\n",
       "<p class=\"stit\"></p>\n",
       "<div class=\"info_area\">\n",
       "<div class=\"info_ico\">\n",
       "<p class=\"ico_a\">한빛아카데미</p>\n",
       "<p class=\"ico_book1\">집필서</p>\n",
       "<p class=\"ico_shopping1\">판매중</p>\n",
       "</div>\n",
       "<div class=\"sns_ico\">\n",
       "<span class=\"ico_facebook\"><a href=\"https://www.facebook.com/share.php?u=https://www.hanbit.co.kr/academy/books/book_view.html?p_code=B6808882615\" target=\"_blank\">페이스북 퍼가기</a></span>\n",
       "<!-- <span class=\"ico_google\"><a href=\"https://plus.google.com/share?url=https://www.hanbit.co.kr/academy/books/book_view.html?p_code=B6808882615\" target=\"_blank\">구글+ 퍼가기</a></span> -->\n",
       "<span class=\"ico_twitter\"><a href=\"https://twitter.com/share?text=4%EC%B0%A8+%EC%82%B0%EC%97%85%ED%98%81%EB%AA%85+%EC%8B%9C%EB%8C%80%EB%A5%BC+%EC%9C%84%ED%95%9C+e-%EB%B9%84%EC%A6%88%EB%8B%88%EC%8A%A4+%EA%B0%9C%EB%A1%A0%26%2340%3B4%ED%8C%90%26%2341%3B&amp;url=https://www.hanbit.co.kr/academy/books/book_view.html?p_code=B6808882615\" target=\"_blank\">트위터 퍼가기</a></span>\n",
       "</div>\n",
       "</div>\n",
       "<ul class=\"info_list\">\n",
       "<li><strong>저자 : </strong><span>이동훈 </span></li>\n",
       "<li><strong>출간 : </strong><span>2021-03-07</span></li>\n",
       "<li><strong>페이지 : </strong><span>512 쪽</span></li>\n",
       "<li><strong>ISBN : </strong><span>9791156645320</span></li>\n",
       "<li><strong>물류코드 :</strong><span>4532</span></li>\n",
       "</ul>\n",
       "<div style=\"border:1px solid #dddddd;background-color:#f9f9f9;line-height:130%;padding:6px;margin-bottom:10px;color:#a01025;font-size:12px;letter-spacing:-1px;\">\n",
       "                        본 도서는 대학 강의용 교재로 개발되었으므로 연습문제 해답은 제공하지 않습니다.\n",
       "                    </div>\n",
       "<div class=\"tag_area\"><span>TAG : </span><a href=\"/search/search_list.html?ptype=B&amp;keyword=e-비즈니스\">e-비즈니스</a> ,<a href=\"/search/search_list.html?ptype=B&amp;keyword=전자상거래\">전자상거래</a> ,<a href=\"/search/search_list.html?ptype=B&amp;keyword=e-커머스\">e-커머스</a> ,<a href=\"/search/search_list.html?ptype=B&amp;keyword=4차 산업혁명\">4차 산업혁명</a> ,<a href=\"/search/search_list.html?ptype=B&amp;keyword=언택트\">언택트</a> ,<a href=\"/search/search_list.html?ptype=B&amp;keyword=블록체인\">블록체인</a> ,<a href=\"/search/search_list.html?ptype=B&amp;keyword=인터넷 뱅킹\">인터넷 뱅킹</a> </div>\n",
       "<div class=\"step_area ico_step1\">\n",
       "<span><strong>초급</strong></span>\n",
       "<span> 초중급 </span>\n",
       "<span> 중급 </span>\n",
       "<span> 중고급 </span>\n",
       "<span> 고급 </span>\n",
       "</div>\n",
       "</div>"
      ]
     },
     "metadata": {},
     "execution_count": 14
    }
   ],
   "source": [
    "    book_info = book_soup.select_one('.store_product_info_box')\n",
    "book_info"
   ]
  },
  {
   "cell_type": "code",
   "execution_count": 15,
   "metadata": {},
   "outputs": [],
   "source": [
    "## li 에서 찾기"
   ]
  },
  {
   "cell_type": "code",
   "execution_count": 16,
   "metadata": {},
   "outputs": [
    {
     "output_type": "execute_result",
     "data": {
      "text/plain": [
       "[<li><strong>저자 : </strong><span>이동훈 </span></li>,\n",
       " <li><strong>출간 : </strong><span>2021-03-07</span></li>,\n",
       " <li><strong>페이지 : </strong><span>512 쪽</span></li>,\n",
       " <li><strong>ISBN : </strong><span>9791156645320</span></li>,\n",
       " <li><strong>물류코드 :</strong><span>4532</span></li>]"
      ]
     },
     "metadata": {},
     "execution_count": 16
    }
   ],
   "source": [
    "lis = book_info.find_all('li')\n",
    "lis"
   ]
  },
  {
   "cell_type": "code",
   "execution_count": 17,
   "metadata": {},
   "outputs": [
    {
     "output_type": "execute_result",
     "data": {
      "text/plain": [
       "[<li><strong>저자 : </strong><span>이동훈 </span></li>,\n",
       " <li><strong>출간 : </strong><span>2021-03-07</span></li>,\n",
       " <li><strong>페이지 : </strong><span>512 쪽</span></li>,\n",
       " <li><strong>ISBN : </strong><span>9791156645320</span></li>,\n",
       " <li><strong>물류코드 :</strong><span>4532</span></li>]"
      ]
     },
     "metadata": {},
     "execution_count": 17
    }
   ],
   "source": [
    "lis = book_info.select_one('.info_list').find_all('li')\n",
    "lis"
   ]
  },
  {
   "cell_type": "code",
   "execution_count": 18,
   "metadata": {},
   "outputs": [
    {
     "output_type": "execute_result",
     "data": {
      "text/plain": [
       "{'저자': '이동훈 ',\n",
       " '출간': '2021-03-07',\n",
       " '페이지': '512 쪽',\n",
       " 'ISBN': '9791156645320',\n",
       " '물류코드': '4532'}"
      ]
     },
     "metadata": {},
     "execution_count": 18
    }
   ],
   "source": [
    "book_dict = {}\n",
    "for bli in lis:\n",
    "    idx = bli.find('strong').get_text().find(':')\n",
    "    key = bli.find('strong').get_text()[:idx-1]\n",
    "    value = bli.find('span').string\n",
    "    book_dict[key] = value\n",
    "book_dict"
   ]
  },
  {
   "cell_type": "code",
   "execution_count": 19,
   "metadata": {},
   "outputs": [
    {
     "output_type": "execute_result",
     "data": {
      "text/plain": [
       "{'저자': '이동훈 ',\n",
       " '출간': '2021-03-07',\n",
       " '페이지': '512 쪽',\n",
       " 'ISBN': '9791156645320',\n",
       " '물류코드': '4532'}"
      ]
     },
     "metadata": {},
     "execution_count": 19
    }
   ],
   "source": [
    "book_dict = {}\n",
    "for bli in lis:\n",
    "    idx = bli.select_one('strong').get_text().find(':')     # find()는 string index를 찾는 함수\n",
    "    key = bli.select_one('strong').get_text()[:idx-1]\n",
    "    value = bli.find('span').string\n",
    "    book_dict[key] = value\n",
    "book_dict"
   ]
  },
  {
   "cell_type": "code",
   "execution_count": 20,
   "metadata": {},
   "outputs": [
    {
     "output_type": "execute_result",
     "data": {
      "text/plain": [
       "[<p><span class=\"pbl\">정가 : </span><span class=\"pbr\"><del>27,000원</del></span></p>,\n",
       " <p><span class=\"pbl\"><strong>판매가 : </strong></span><span class=\"pbr\"><strong>27,000</strong>원<span>(0% off)</span></span></p>,\n",
       " <p><span class=\"pbl\">마일리지 : </span><span class=\"pbr\">810점 (3%)</span></p>]"
      ]
     },
     "metadata": {},
     "execution_count": 20
    }
   ],
   "source": [
    "pb_ps = book_soup.select_one('.payment_box').find_all('p')\n",
    "pb_ps"
   ]
  },
  {
   "cell_type": "code",
   "execution_count": 21,
   "metadata": {},
   "outputs": [
    {
     "output_type": "execute_result",
     "data": {
      "text/plain": [
       "'판매가 : '"
      ]
     },
     "metadata": {},
     "execution_count": 21
    }
   ],
   "source": [
    "pb_ps[1].select_one('.pbl').get_text()"
   ]
  },
  {
   "cell_type": "code",
   "execution_count": 22,
   "metadata": {},
   "outputs": [],
   "source": [
    "idx = pb_ps[1].select_one('.pbr').get_text().find('원')"
   ]
  },
  {
   "cell_type": "code",
   "execution_count": 23,
   "metadata": {},
   "outputs": [
    {
     "output_type": "execute_result",
     "data": {
      "text/plain": [
       "27000"
      ]
     },
     "metadata": {},
     "execution_count": 23
    }
   ],
   "source": [
    "\n",
    "sp = pb_ps[1].select_one('.pbr').get_text()[:idx]\n",
    "sp = int(sp.replace(',',''))\n",
    "sp"
   ]
  },
  {
   "source": [
    "### 첫번째 페이지"
   ],
   "cell_type": "markdown",
   "metadata": {}
  },
  {
   "cell_type": "code",
   "execution_count": 24,
   "metadata": {},
   "outputs": [],
   "source": [
    "title_list = []\n",
    "info_list = []\n",
    "sp_list = []"
   ]
  },
  {
   "cell_type": "code",
   "execution_count": null,
   "metadata": {},
   "outputs": [],
   "source": [
    "\n",
    "lis = soup.select('.sub_book_list')\n",
    "for li in lis:\n",
    "    title_p = li.select_one('.book_tit')\n",
    "    title = title_p.get_text()\n",
    "    title_list.append(title)\n",
    "\n",
    "    book_url = title_p.find('a')['href']\n",
    "    url = base_url + book_url\n",
    "    with urllib.request.urlopen(url) as response:\n",
    "        html = response.read()\n",
    "        book_soup = BeautifulSoup(html, 'html.parser')\n",
    "\n",
    "    book_info = book_soup.select_one('.store_product_info_box')\n",
    "    book_lis = book_info.find_all('li')\n",
    "    book_dict = {}\n",
    "    for bli in book_lis:\n",
    "        idx = bli.select_one('strong').get_text().find(':')     # find()는 string index를 찾는 함수\n",
    "        key = bli.select_one('strong').get_text()[:idx-1]\n",
    "        value = bli.find('span').string\n",
    "        book_dict[key] = value\n",
    "    info_list.append(book_dict)\n",
    "\n",
    "    pb_ps = book_soup.select_one('.payment_box').find_all('p')\n",
    "    idx = pb_ps[1].select_one('.pbr').get_text().find('원')\n",
    "    sp = pb_ps[1].select_one('.pbr').get_text()[:idx]\n",
    "    sp = int(sp.replace(',',''))\n",
    "    sp_list.append(sp)"
   ]
  },
  {
   "cell_type": "code",
   "execution_count": null,
   "metadata": {},
   "outputs": [],
   "source": [
    "print(title_list)"
   ]
  },
  {
   "cell_type": "code",
   "execution_count": null,
   "metadata": {},
   "outputs": [],
   "source": [
    "print(sp_list)"
   ]
  },
  {
   "cell_type": "code",
   "execution_count": null,
   "metadata": {},
   "outputs": [],
   "source": [
    "info_list"
   ]
  },
  {
   "cell_type": "code",
   "execution_count": null,
   "metadata": {},
   "outputs": [],
   "source": [
    "# info_list -> 각 정보의 리스트로\n",
    "author_list = []; trans_list = []; date_list = []\n",
    "page_list = []; isbn_list = []\n",
    "\n",
    "for i_dict in info_list:\n",
    "    tr_flag = False\n",
    "    for key, value in i_dict.items():\n",
    "        if key.find('저자') >= 0:\n",
    "            al = value.split(',')\n",
    "            al = list(map(lambda s: s.rstrip(), al))\n",
    "            writer = ','.join(al)\n",
    "            author_list.append(writer)\n",
    "            continue\n",
    "        if key.find('출간') >= 0:\n",
    "            date_list.append(value)\n",
    "            continue\n",
    "        if key.find('페이지') >= 0:\n",
    "            page = int(value[:-2])\n",
    "            page_list.append(page)\n",
    "            continue\n",
    "        if key.find('ISBN') >= 0:\n",
    "            isbn_list.append(value)\n",
    "            continue\n",
    "        if key.find('번역') >= 0:\n",
    "            al = value.split(',')\n",
    "            al = list(map(lambda s: s.rstrip(), al))\n",
    "            writer = ','.join(al)\n",
    "            trans_list.append(writer)\n",
    "            tr_flag = True\n",
    "            continue\n",
    "        \n",
    "    if not tr_flag:\n",
    "        trans_list.append(' ')"
   ]
  },
  {
   "cell_type": "code",
   "execution_count": null,
   "metadata": {},
   "outputs": [],
   "source": [
    "author_list"
   ]
  },
  {
   "cell_type": "code",
   "execution_count": null,
   "metadata": {},
   "outputs": [],
   "source": [
    "trans_list"
   ]
  },
  {
   "cell_type": "code",
   "execution_count": null,
   "metadata": {},
   "outputs": [],
   "source": [
    "page_list"
   ]
  },
  {
   "cell_type": "code",
   "execution_count": null,
   "metadata": {},
   "outputs": [],
   "source": [
    "import pandas as pd \n",
    "df = pd.DataFrame({'제목':title_list, '저자':author_list, '역자': trans_list, '판가':sp_list})\n",
    "df.head()"
   ]
  },
  {
   "cell_type": "code",
   "execution_count": null,
   "metadata": {},
   "outputs": [],
   "source": [
    "df"
   ]
  },
  {
   "cell_type": "code",
   "execution_count": null,
   "metadata": {},
   "outputs": [],
   "source": [
    "df.to_csv('book_list.tsv', sep='\\t', index=False)"
   ]
  }
 ]
}