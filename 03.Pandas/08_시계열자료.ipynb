{
 "metadata": {
  "language_info": {
   "codemirror_mode": {
    "name": "ipython",
    "version": 3
   },
   "file_extension": ".py",
   "mimetype": "text/x-python",
   "name": "python",
   "nbconvert_exporter": "python",
   "pygments_lexer": "ipython3",
   "version": "3.9.2-final"
  },
  "orig_nbformat": 2,
  "kernelspec": {
   "name": "python3",
   "display_name": "Python 3.9.2 64-bit",
   "metadata": {
    "interpreter": {
     "hash": "b674c0892b3c64375a5c933dff98129cc6aeb23957d1f1ec6f775041500db805"
    }
   }
  }
 },
 "nbformat": 4,
 "nbformat_minor": 2,
 "cells": [
  {
   "source": [
    "## 시계열 자료 다루기"
   ],
   "cell_type": "markdown",
   "metadata": {}
  },
  {
   "cell_type": "code",
   "execution_count": 2,
   "metadata": {},
   "outputs": [],
   "source": [
    "import numpy as np \n",
    "import pandas as pd"
   ]
  },
  {
   "source": [
    "### DatetimeIndex 인덱스"
   ],
   "cell_type": "markdown",
   "metadata": {}
  },
  {
   "cell_type": "code",
   "execution_count": 4,
   "metadata": {},
   "outputs": [
    {
     "output_type": "execute_result",
     "data": {
      "text/plain": [
       "DatetimeIndex(['2018-01-01', '2018-01-04', '2018-01-05', '2018-01-06'], dtype='datetime64[ns]', freq=None)"
      ]
     },
     "metadata": {},
     "execution_count": 4
    }
   ],
   "source": [
    "date_str = [\"2018, 1, 1\", \"2018, 1, 4\", \"2018, 1, 5\", \"2018, 1, 6\"]\n",
    "pd.to_datetime(date_str)"
   ]
  },
  {
   "cell_type": "code",
   "execution_count": 6,
   "metadata": {},
   "outputs": [
    {
     "output_type": "execute_result",
     "data": {
      "text/plain": [
       "2018-01-01    1.488609\n",
       "2018-01-04    0.676011\n",
       "2018-01-05   -0.418451\n",
       "2018-01-06   -0.806521\n",
       "dtype: float64"
      ]
     },
     "metadata": {},
     "execution_count": 6
    }
   ],
   "source": [
    "np.random.seed(2021)\n",
    "s = pd.Series(np.random.randn(4), index=pd.to_datetime(date_str))\n",
    "s"
   ]
  },
  {
   "cell_type": "code",
   "execution_count": 7,
   "metadata": {},
   "outputs": [
    {
     "output_type": "execute_result",
     "data": {
      "text/plain": [
       "DatetimeIndex(['2021-03-01', '2021-03-02', '2021-03-03', '2021-03-04',\n",
       "               '2021-03-05', '2021-03-06', '2021-03-07', '2021-03-08',\n",
       "               '2021-03-09', '2021-03-10', '2021-03-11', '2021-03-12',\n",
       "               '2021-03-13', '2021-03-14', '2021-03-15', '2021-03-16',\n",
       "               '2021-03-17', '2021-03-18', '2021-03-19', '2021-03-20',\n",
       "               '2021-03-21', '2021-03-22', '2021-03-23', '2021-03-24',\n",
       "               '2021-03-25', '2021-03-26', '2021-03-27', '2021-03-28',\n",
       "               '2021-03-29', '2021-03-30', '2021-03-31'],\n",
       "              dtype='datetime64[ns]', freq='D')"
      ]
     },
     "metadata": {},
     "execution_count": 7
    }
   ],
   "source": [
    "pd.date_range(\"2021-3-1\", \"2021-3-31\")"
   ]
  },
  {
   "cell_type": "code",
   "execution_count": 8,
   "metadata": {},
   "outputs": [
    {
     "output_type": "execute_result",
     "data": {
      "text/plain": [
       "DatetimeIndex(['2021-03-01', '2021-03-02', '2021-03-03', '2021-03-04',\n",
       "               '2021-03-05', '2021-03-06', '2021-03-07', '2021-03-08',\n",
       "               '2021-03-09', '2021-03-10', '2021-03-11', '2021-03-12',\n",
       "               '2021-03-13', '2021-03-14', '2021-03-15', '2021-03-16',\n",
       "               '2021-03-17', '2021-03-18', '2021-03-19', '2021-03-20',\n",
       "               '2021-03-21', '2021-03-22', '2021-03-23', '2021-03-24',\n",
       "               '2021-03-25', '2021-03-26', '2021-03-27', '2021-03-28',\n",
       "               '2021-03-29', '2021-03-30'],\n",
       "              dtype='datetime64[ns]', freq='D')"
      ]
     },
     "metadata": {},
     "execution_count": 8
    }
   ],
   "source": [
    "pd.date_range(\"2021-3-1\", periods=30)"
   ]
  },
  {
   "cell_type": "code",
   "execution_count": 9,
   "metadata": {},
   "outputs": [
    {
     "output_type": "execute_result",
     "data": {
      "text/plain": [
       "DatetimeIndex(['2021-03-01', '2021-03-02', '2021-03-03', '2021-03-04',\n",
       "               '2021-03-05', '2021-03-08', '2021-03-09', '2021-03-10',\n",
       "               '2021-03-11', '2021-03-12', '2021-03-15', '2021-03-16',\n",
       "               '2021-03-17', '2021-03-18', '2021-03-19', '2021-03-22',\n",
       "               '2021-03-23', '2021-03-24', '2021-03-25', '2021-03-26',\n",
       "               '2021-03-29', '2021-03-30', '2021-03-31'],\n",
       "              dtype='datetime64[ns]', freq='B')"
      ]
     },
     "metadata": {},
     "execution_count": 9
    }
   ],
   "source": [
    "pd.date_range(\"2021-3-1\", \"2021-3-31\", freq='B')"
   ]
  },
  {
   "cell_type": "code",
   "execution_count": 10,
   "metadata": {},
   "outputs": [
    {
     "output_type": "execute_result",
     "data": {
      "text/plain": [
       "DatetimeIndex(['2021-01-03', '2021-01-10', '2021-01-17', '2021-01-24',\n",
       "               '2021-01-31', '2021-02-07', '2021-02-14', '2021-02-21',\n",
       "               '2021-02-28', '2021-03-07', '2021-03-14', '2021-03-21',\n",
       "               '2021-03-28', '2021-04-04', '2021-04-11', '2021-04-18',\n",
       "               '2021-04-25', '2021-05-02', '2021-05-09', '2021-05-16',\n",
       "               '2021-05-23', '2021-05-30', '2021-06-06', '2021-06-13',\n",
       "               '2021-06-20', '2021-06-27', '2021-07-04', '2021-07-11',\n",
       "               '2021-07-18', '2021-07-25', '2021-08-01', '2021-08-08',\n",
       "               '2021-08-15', '2021-08-22', '2021-08-29', '2021-09-05',\n",
       "               '2021-09-12', '2021-09-19', '2021-09-26', '2021-10-03',\n",
       "               '2021-10-10', '2021-10-17', '2021-10-24', '2021-10-31',\n",
       "               '2021-11-07', '2021-11-14', '2021-11-21', '2021-11-28',\n",
       "               '2021-12-05', '2021-12-12', '2021-12-19', '2021-12-26'],\n",
       "              dtype='datetime64[ns]', freq='W-SUN')"
      ]
     },
     "metadata": {},
     "execution_count": 10
    }
   ],
   "source": [
    "pd.date_range('2021-1-1','2021-12-31',freq='W')"
   ]
  },
  {
   "source": [
    "### shift 연산"
   ],
   "cell_type": "markdown",
   "metadata": {}
  },
  {
   "cell_type": "code",
   "execution_count": 12,
   "metadata": {},
   "outputs": [
    {
     "output_type": "execute_result",
     "data": {
      "text/plain": [
       "2021-01-31    1.764052\n",
       "2021-02-28    0.400157\n",
       "2021-03-31    0.978738\n",
       "2021-04-30    2.240893\n",
       "Freq: M, dtype: float64"
      ]
     },
     "metadata": {},
     "execution_count": 12
    }
   ],
   "source": [
    "np.random.seed(0)\n",
    "ts = pd.Series(np.random.randn(4), index=pd.date_range(\n",
    "    \"2021-1-1\", periods=4, freq=\"M\"))\n",
    "ts"
   ]
  },
  {
   "cell_type": "code",
   "execution_count": 13,
   "metadata": {},
   "outputs": [
    {
     "output_type": "execute_result",
     "data": {
      "text/plain": [
       "2021-01-31         NaN\n",
       "2021-02-28    1.764052\n",
       "2021-03-31    0.400157\n",
       "2021-04-30    0.978738\n",
       "Freq: M, dtype: float64"
      ]
     },
     "metadata": {},
     "execution_count": 13
    }
   ],
   "source": [
    "ts.shift(1)"
   ]
  },
  {
   "cell_type": "code",
   "execution_count": 14,
   "metadata": {},
   "outputs": [
    {
     "output_type": "execute_result",
     "data": {
      "text/plain": [
       "2021-01-31    0.400157\n",
       "2021-02-28    0.978738\n",
       "2021-03-31    2.240893\n",
       "2021-04-30         NaN\n",
       "Freq: M, dtype: float64"
      ]
     },
     "metadata": {},
     "execution_count": 14
    }
   ],
   "source": [
    "ts.shift(-1)"
   ]
  },
  {
   "source": [
    "### resample 연산"
   ],
   "cell_type": "markdown",
   "metadata": {}
  },
  {
   "cell_type": "code",
   "execution_count": 16,
   "metadata": {},
   "outputs": [
    {
     "output_type": "execute_result",
     "data": {
      "text/plain": [
       "2021-04-06    0.401989\n",
       "2021-04-07    1.883151\n",
       "2021-04-08   -1.347759\n",
       "2021-04-09   -1.270485\n",
       "2021-04-10    0.969397\n",
       "Freq: D, dtype: float64"
      ]
     },
     "metadata": {},
     "execution_count": 16
    }
   ],
   "source": [
    "ts = pd.Series(np.random.randn(100), \n",
    "               index=pd.date_range(\"2021-1-1\", periods=100))\n",
    "ts.tail()"
   ]
  },
  {
   "cell_type": "code",
   "execution_count": 17,
   "metadata": {},
   "outputs": [
    {
     "output_type": "execute_result",
     "data": {
      "text/plain": [
       "2021-01-03    0.613456\n",
       "2021-01-10    0.376722\n",
       "2021-01-17   -0.146794\n",
       "2021-01-24    0.207122\n",
       "2021-01-31    0.045536\n",
       "2021-02-07   -0.081312\n",
       "2021-02-14   -0.398918\n",
       "2021-02-21   -0.287513\n",
       "2021-02-28   -0.353319\n",
       "2021-03-07   -0.567629\n",
       "2021-03-14   -0.055802\n",
       "2021-03-21   -0.309877\n",
       "2021-03-28    0.566217\n",
       "2021-04-04    0.752381\n",
       "2021-04-11    0.127201\n",
       "Freq: W-SUN, dtype: float64"
      ]
     },
     "metadata": {},
     "execution_count": 17
    }
   ],
   "source": [
    "ts.resample('W').mean()"
   ]
  },
  {
   "cell_type": "code",
   "execution_count": 18,
   "metadata": {},
   "outputs": [
    {
     "output_type": "execute_result",
     "data": {
      "text/plain": [
       "2021-01-31    0.168338\n",
       "2021-02-28   -0.280265\n",
       "2021-03-31   -0.005235\n",
       "2021-04-30    0.362251\n",
       "Freq: M, dtype: float64"
      ]
     },
     "metadata": {},
     "execution_count": 18
    }
   ],
   "source": [
    "ts.resample('M').mean()"
   ]
  },
  {
   "source": [
    "### dt 접근자"
   ],
   "cell_type": "markdown",
   "metadata": {}
  },
  {
   "cell_type": "code",
   "execution_count": 19,
   "metadata": {},
   "outputs": [
    {
     "output_type": "execute_result",
     "data": {
      "text/plain": [
       "0   2020-12-25\n",
       "1   2020-12-26\n",
       "2   2020-12-27\n",
       "3   2020-12-28\n",
       "4   2020-12-29\n",
       "5   2020-12-30\n",
       "6   2020-12-31\n",
       "7   2021-01-01\n",
       "8   2021-01-02\n",
       "9   2021-01-03\n",
       "dtype: datetime64[ns]"
      ]
     },
     "metadata": {},
     "execution_count": 19
    }
   ],
   "source": [
    "s = pd.Series(pd.date_range(\"2020-12-25\", periods=10, freq=\"D\"))\n",
    "s"
   ]
  },
  {
   "cell_type": "code",
   "execution_count": 20,
   "metadata": {},
   "outputs": [
    {
     "output_type": "execute_result",
     "data": {
      "text/plain": [
       "0    2020\n",
       "1    2020\n",
       "2    2020\n",
       "3    2020\n",
       "4    2020\n",
       "5    2020\n",
       "6    2020\n",
       "7    2021\n",
       "8    2021\n",
       "9    2021\n",
       "dtype: int64"
      ]
     },
     "metadata": {},
     "execution_count": 20
    }
   ],
   "source": [
    "s.dt.year"
   ]
  },
  {
   "cell_type": "code",
   "execution_count": 21,
   "metadata": {},
   "outputs": [
    {
     "output_type": "execute_result",
     "data": {
      "text/plain": [
       "0    12\n",
       "1    12\n",
       "2    12\n",
       "3    12\n",
       "4    12\n",
       "5    12\n",
       "6    12\n",
       "7     1\n",
       "8     1\n",
       "9     1\n",
       "dtype: int64"
      ]
     },
     "metadata": {},
     "execution_count": 21
    }
   ],
   "source": [
    "s.dt.month"
   ]
  }
 ]
}